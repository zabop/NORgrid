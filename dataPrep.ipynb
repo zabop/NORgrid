{
 "cells": [
  {
   "cell_type": "code",
   "execution_count": 8,
   "metadata": {},
   "outputs": [
    {
     "name": "stdout",
     "output_type": "stream",
     "text": [
      "  % Total    % Received % Xferd  Average Speed   Time    Time     Time  Current\n",
      "                                 Dload  Upload   Total   Spent    Left  Speed\n",
      "100 16.9M  100 16.9M    0     0  10.8M      0  0:00:01  0:00:01 --:--:-- 10.8M\n",
      "Archive:  griddata.zip\n",
      "  inflating: griddata/NVEKartdata/Metadata/ObjekttyperEgenskaper/ObjekttyperEgenskaper_Nettanlegg.pdf  \n",
      "  inflating: griddata/NVEKartdata/Metadata/Produktark/Produktark_nettanlegg.pdf  \n",
      "  inflating: griddata/NVEKartdata/Metadata/Tegneregler/Presentasjonsregler_nettanlegg.pdf  \n",
      "  inflating: griddata/NVEKartdata/NVEData/Kraftnett_Kraftlinje.geojson  \n",
      "  inflating: griddata/NVEKartdata/OmBrukAvKartdataFraNVE.pdf  \n"
     ]
    }
   ],
   "source": [
    "# Get data from: https://kartkatalog.nve.no/nedlasting\n",
    "!curl https://kartdata.nve.no/fmedatadownload/results/NVE_47551B14_1730022204157_14044.zip --output griddata.zip\n",
    "!unzip griddata.zip -d griddata"
   ]
  },
  {
   "cell_type": "code",
   "execution_count": 9,
   "metadata": {},
   "outputs": [],
   "source": [
    "import geopandas as gpd\n",
    "\n",
    "df = gpd.read_file(\"griddata/NVEKartdata/NVEData/Kraftnett_Kraftlinje.geojson\")\n",
    "df = df.assign(\n",
    "    title=df.apply(\n",
    "        lambda row: \", \".join([f\"{row.spenning_kV:.0f} kV\", row.eier]), axis=1\n",
    "    )\n",
    ")\n",
    "df[[\"geometry\", \"title\",\"spenning_kV\"]].to_crs(4326).to_file(\n",
    "    \"NORgrid_linestringz.geojson\",\n",
    "    layer_options={\"ID_GENERATE\": \"YES\", \"WRITE_BBOX\": \"NO\", \"COORDINATE_PRECISION\": 8},\n",
    "    engine=\"pyogrio\"\n",
    ")"
   ]
  },
  {
   "cell_type": "code",
   "execution_count": 10,
   "metadata": {},
   "outputs": [],
   "source": [
    "!ogr2ogr NORgrid.geojson NORgrid_linestringz.geojson -dim 2\n",
    "!rm -f NORgrid_linestringz.geojson"
   ]
  },
  {
   "cell_type": "code",
   "execution_count": 11,
   "metadata": {},
   "outputs": [
    {
     "name": "stdout",
     "output_type": "stream",
     "text": [
      "{\n",
      "\"type\": \"FeatureCollection\",\n",
      "\"name\": \"NORgrid_linestringz\",\n",
      "\"crs\": { \"type\": \"name\", \"properties\": { \"name\": \"urn:ogc:def:crs:OGC:1.3:CRS84\" } },\n",
      "\"features\": [\n",
      "{ \"type\": \"Feature\", \"id\": 0, \"properties\": { \"title\": \"22 kV, UKJENT\", \"spenning_kV\": 22.0 }, \"geometry\": { \"type\": \"LineString\", \"coordinates\": [ [ 12.61280915, 64.28261583 ], [ 12.61091687, 64.28299101 ], [ 12.60851779, 64.28633356 ], [ 12.60676571, 64.28877393 ], [ 12.60382743, 64.28924307 ], [ 12.60059789, 64.28975867 ], [ 12.59700287, 64.29033251 ], [ 12.59301134, 64.29096947 ], [ 12.58928955, 64.2915633 ], [ 12.58553963, 64.2921615 ], [ 12.57779264, 64.29339689 ], [ 12.57382129, 64.29403002 ], [ 12.57014829, 64.29314007 ], [ 12.56777394, 64.2925647 ], [ 12.56462072, 64.29272768 ], [ 12.5605158, 64.29293964 ], [ 12.55773238, 64.29308331 ], [ 12.55440648, 64.29171122 ], [ 12.55146429, 64.29049722 ], [ 12.54840156, 64.28923335 ], [ 12.54460575, 64.28813544 ], [ 12.54184682, 64.2873372 ], [ 12.53858912, 64.28639465 ], [ 12."
     ]
    }
   ],
   "source": [
    "# check output\n",
    "!head -c1000 NORgrid.geojson"
   ]
  },
  {
   "cell_type": "code",
   "execution_count": 14,
   "metadata": {},
   "outputs": [],
   "source": [
    "!open ."
   ]
  },
  {
   "cell_type": "markdown",
   "metadata": {},
   "source": [
    "Upload and style with Mapbox Studio: https://studio.mapbox.com/styles/zabop/cm2rk5cgu00b701pmahzcegli/. Style URL: mapbox://styles/zabop/cm2rk5cgu00b701pmahzcegli."
   ]
  }
 ],
 "metadata": {
  "kernelspec": {
   "display_name": "dev311_2",
   "language": "python",
   "name": "dev311_2"
  },
  "language_info": {
   "codemirror_mode": {
    "name": "ipython",
    "version": 3
   },
   "file_extension": ".py",
   "mimetype": "text/x-python",
   "name": "python",
   "nbconvert_exporter": "python",
   "pygments_lexer": "ipython3",
   "version": "3.11.10"
  }
 },
 "nbformat": 4,
 "nbformat_minor": 2
}
